{
 "cells": [
  {
   "cell_type": "code",
   "execution_count": 1,
   "metadata": {},
   "outputs": [],
   "source": [
    "import PySpice.Logging.Logging as Logging\n",
    "logger = Logging.setup_logging()\n",
    "import schemdraw\n",
    "import schemdraw.elements as elm\n",
    "import matplotlib.pyplot as plt\n",
    "\n",
    "from PySpice.Spice.Netlist import Circuit\n",
    "from PySpice.Unit import *"
   ]
  },
  {
   "cell_type": "code",
   "execution_count": 6,
   "metadata": {},
   "outputs": [
    {
     "name": "stdout",
     "output_type": "stream",
     "text": [
      "Node r4_plus: 30.000 V\n",
      "Node c: 30.000 V\n",
      "Node b: 38.000 V\n",
      "Node a: 50.000 V\n",
      "Branch vinput: -3.000 A\n",
      "Branch vr4_plus: 6.000 A\n"
     ]
    }
   ],
   "source": [
    "## Example 1\n",
    "\n",
    "circuit = Circuit(\"Circuit 1\")\n",
    "\n",
    "V = circuit.V(\"input\", \"a\", circuit.gnd, 50@u_V) \n",
    "R1 = circuit.R(\"1\", \"a\", \"b\", 12@u_Ohm)\n",
    "R2 = circuit.R(\"2\", \"b\", \"c\", 2@u_Ohm)  \n",
    "R3 = circuit.R(\"3\", \"a\", \"c\", 10@u_Ohm)\n",
    "R4 = circuit.R(\"4\", \"c\", circuit.gnd, 5@u_Ohm)\n",
    "I = circuit.I(\"3A\", circuit.gnd, \"b\", 3@u_A)\n",
    "\n",
    "circuit.R4.plus.add_current_probe(circuit)\n",
    "simulator = circuit.simulator(temperature = 25)\n",
    "analysis = simulator.operating_point()\n",
    "\n",
    "for node in analysis.nodes.values():\n",
    "    print('Node {}: {:4.3f} V'.format(str(node), float(node)))\n",
    "\n",
    "for node in analysis.branches.values():\n",
    "    print('Branch {}: {:4.3f} A'.format(str(node), float(node)))"
   ]
  },
  {
   "cell_type": "code",
   "execution_count": 8,
   "metadata": {},
   "outputs": [
    {
     "name": "stdout",
     "output_type": "stream",
     "text": [
      "Node b: 30.000 V\n",
      "Node r1_plus: 40.000 V\n",
      "Node c: 40.000 V\n",
      "Node d: 33.000 V\n",
      "Node a: 48.000 V\n",
      "Branch vr1_plus: 2.000000 A\n"
     ]
    }
   ],
   "source": [
    "## Example 2\n",
    "circuit = Circuit(\"Circuit 2\")\n",
    "\n",
    "I2 = circuit.I(\"12A\", circuit.gnd, \"a\", 12@u_A) \n",
    "R2 = circuit.R(\"2\", \"a\", \"d\", 5@u_Ohm)  \n",
    "I1 = circuit.I(\"3A\", \"d\", \"c\", 3@u_A) \n",
    "R1 = circuit.R(\"1\", \"c\", circuit.gnd, 20@u_Ohm)\n",
    "R3 = circuit.R(\"3\", \"b\", circuit.gnd, 3@u_Ohm)\n",
    "R4 = circuit.R(\"4\", \"a\", \"b\", 2@u_Ohm)\n",
    "R5 = circuit.R(\"5\", \"c\", \"b\", 10@u_Ohm)\n",
    "\n",
    "circuit.R1.plus.add_current_probe(circuit)\n",
    "simulator = circuit.simulator(temperature = 25)\n",
    "analysis = simulator.operating_point()\n",
    "\n",
    "for node in analysis.nodes.values():\n",
    "    print('Node {}: {:4.3f} V'.format(str(node), float(node)))\n",
    "\n",
    "for node in analysis.branches.values():\n",
    "    print('Branch {}: {:4.6f} A'.format(str(node), float(node)))"
   ]
  },
  {
   "cell_type": "code",
   "execution_count": 2,
   "metadata": {},
   "outputs": [
    {
     "name": "stdout",
     "output_type": "stream",
     "text": [
      "Node c: 32.000 V\n",
      "Node b: 12.769 V\n",
      "Node r1_plus: 28.000 V\n",
      "Node a: 28.000 V\n",
      "Branch vinput1: -2.038462 A\n",
      "Branch vinput2: -4.346154 A\n",
      "Branch vr1_plus: 2.538462 A\n"
     ]
    }
   ],
   "source": [
    "## Example 3\n",
    "circuit = Circuit(\"Circuit 3\")\n",
    "V1 = circuit.V(\"input1\", \"a\", circuit.gnd, 28@u_V)\n",
    "R1 = circuit.R(\"1\", \"a\", \"b\", 6@u_Ohm)\n",
    "R2 = circuit.R(\"2\", \"b\", \"c\", 5@u_Ohm)\n",
    "R3 = circuit.R(\"3\", \"a\", \"c\", 8@u_Ohm)\n",
    "R4 = circuit.R(\"4\", \"b\", circuit.gnd, 2@u_Ohm)\n",
    "V2 = circuit.V(\"input2\", \"c\", circuit.gnd, 32@u_V)\n",
    "\n",
    "circuit.R1.plus.add_current_probe(circuit)\n",
    "simulator = circuit.simulator(temperature = 25)\n",
    "analysis = simulator.operating_point()\n",
    "\n",
    "for node in analysis.nodes.values():\n",
    "    print('Node {}: {:4.3f} V'.format(str(node), float(node)))\n",
    "\n",
    "for node in analysis.branches.values():\n",
    "    print('Branch {}: {:4.6f} A'.format(str(node), float(node)))\n",
    "\n"
   ]
  }
 ],
 "metadata": {
  "kernelspec": {
   "display_name": "Python 3.10.7 64-bit",
   "language": "python",
   "name": "python3"
  },
  "language_info": {
   "codemirror_mode": {
    "name": "ipython",
    "version": 3
   },
   "file_extension": ".py",
   "mimetype": "text/x-python",
   "name": "python",
   "nbconvert_exporter": "python",
   "pygments_lexer": "ipython3",
   "version": "3.10.7"
  },
  "orig_nbformat": 4,
  "vscode": {
   "interpreter": {
    "hash": "d64b78e8d7bac19a4395ef8119f7ef621de2f609eabe0811999f3153793e83d7"
   }
  }
 },
 "nbformat": 4,
 "nbformat_minor": 2
}
